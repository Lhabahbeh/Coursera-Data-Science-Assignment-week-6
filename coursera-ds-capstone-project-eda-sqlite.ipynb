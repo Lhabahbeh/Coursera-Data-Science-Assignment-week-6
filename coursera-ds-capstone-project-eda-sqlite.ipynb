{
 "cells": [
  {
   "cell_type": "markdown",
   "id": "118bedec",
   "metadata": {
    "papermill": {
     "duration": 0.008241,
     "end_time": "2022-07-16T07:05:55.184802",
     "exception": false,
     "start_time": "2022-07-16T07:05:55.176561",
     "status": "completed"
    },
    "tags": []
   },
   "source": [
    "<p style=\"text-align:center\">\n",
    "    <a href=\"https://skills.network/?utm_medium=Exinfluencer&utm_source=Exinfluencer&utm_content=000026UJ&utm_term=10006555&utm_id=NA-SkillsNetwork-Channel-SkillsNetworkCoursesIBMDS0321ENSkillsNetwork26802033-2022-01-01\" target=\"_blank\">\n",
    "    <img src=\"https://cf-courses-data.s3.us.cloud-object-storage.appdomain.cloud/assets/logos/SN_web_lightmode.png\" width=\"200\" alt=\"Skills Network Logo\"  />\n",
    "    </a>\n",
    "</p>\n",
    "\n",
    "<h1 align=center><font size = 5>Assignment: SQL Notebook for Peer Assignment</font></h1>\n",
    "\n",
    "Estimated time needed: **60** minutes.\n",
    "\n",
    "## Introduction\n",
    "\n",
    "Using this Python notebook you will:\n",
    "\n",
    "1.  Understand the Spacex DataSet\n",
    "2.  Load the dataset  into the corresponding table in a Db2 database\n",
    "3.  Execute SQL queries to answer assignment questions\n"
   ]
  },
  {
   "cell_type": "markdown",
   "id": "6d0c533f",
   "metadata": {
    "papermill": {
     "duration": 0.006263,
     "end_time": "2022-07-16T07:05:55.197795",
     "exception": false,
     "start_time": "2022-07-16T07:05:55.191532",
     "status": "completed"
    },
    "tags": []
   },
   "source": [
    "## Overview of the DataSet\n",
    "\n",
    "SpaceX has gained worldwide attention for a series of historic milestones.\n",
    "\n",
    "It is the only private company ever to return a spacecraft from low-earth orbit, which it first accomplished in December 2010.\n",
    "SpaceX advertises Falcon 9 rocket launches on its website with a cost of 62 million dollars wheras other providers cost upward of 165 million dollars each, much of the savings is because Space X can reuse the first stage.\n",
    "\n",
    "Therefore if we can determine if the first stage will land, we can determine the cost of a launch.\n",
    "\n",
    "This information can be used if an alternate company wants to bid against SpaceX for a rocket launch.\n",
    "\n",
    "This dataset includes a record for each payload carried during a SpaceX mission into outer space.\n"
   ]
  },
  {
   "cell_type": "markdown",
   "id": "71e83734",
   "metadata": {
    "papermill": {
     "duration": 0.006266,
     "end_time": "2022-07-16T07:05:55.211375",
     "exception": false,
     "start_time": "2022-07-16T07:05:55.205109",
     "status": "completed"
    },
    "tags": []
   },
   "source": [
    "### Download the datasets\n",
    "\n",
    "This assignment requires you to load the spacex dataset.\n",
    "\n",
    "In many cases the dataset to be analyzed is available as a .CSV (comma separated values) file, perhaps on the internet. Click on the link below to download and save the dataset (.CSV file):\n",
    "\n",
    "<a href=\"https://cf-courses-data.s3.us.cloud-object-storage.appdomain.cloud/IBM-DS0321EN-SkillsNetwork/labs/module_2/data/Spacex.csv?utm_medium=Exinfluencer&utm_source=Exinfluencer&utm_content=000026UJ&utm_term=10006555&utm_id=NA-SkillsNetwork-Channel-SkillsNetworkCoursesIBMDS0321ENSkillsNetwork26802033-2022-01-01\" target=\"_blank\">Spacex DataSet</a>\n"
   ]
  },
  {
   "cell_type": "markdown",
   "id": "11579eac",
   "metadata": {
    "papermill": {
     "duration": 0.005909,
     "end_time": "2022-07-16T07:05:55.224316",
     "exception": false,
     "start_time": "2022-07-16T07:05:55.218407",
     "status": "completed"
    },
    "tags": []
   },
   "source": [
    "### Store the dataset in database table\n",
    "\n",
    "**it is highly recommended to manually load the table using the database console LOAD tool in DB2**.\n",
    "\n",
    "<img src = \"https://cf-courses-data.s3.us.cloud-object-storage.appdomain.cloud/IBM-DS0321EN-SkillsNetwork/labs/module_2/images/spacexload.png\">\n",
    "\n",
    "Now open the Db2 console, open the LOAD tool, Select / Drag the .CSV file for the  dataset, Next create a New Table, and then follow the steps on-screen instructions to load the data. Name the new table as follows:\n",
    "\n",
    "**SPACEXDATASET**\n",
    "\n",
    "**Follow these steps while using old DB2 UI which is having Open Console Screen**\n",
    "\n",
    "**Note:While loading Spacex dataset, ensure that detect datatypes is disabled. Later click on the pencil icon(edit option).**\n",
    "\n",
    "1.  Change the Date Format by manually typing DD-MM-YYYY and timestamp format as DD-MM-YYYY HH\\:MM:SS\n",
    "\n",
    "2.  Change the PAYLOAD_MASS\\_\\_KG\\_  datatype  to INTEGER.\n",
    "\n",
    "<img src = \"https://cf-courses-data.s3.us.cloud-object-storage.appdomain.cloud/IBM-DS0321EN-SkillsNetwork/labs/module_2/images/spacexload2.png\">\n"
   ]
  },
  {
   "cell_type": "markdown",
   "id": "67481317",
   "metadata": {
    "papermill": {
     "duration": 0.006176,
     "end_time": "2022-07-16T07:05:55.236630",
     "exception": false,
     "start_time": "2022-07-16T07:05:55.230454",
     "status": "completed"
    },
    "tags": []
   },
   "source": [
    "**Changes to be considered when having DB2 instance with the new UI having Go to UI screen**\n",
    "\n",
    "*   Refer to this insruction in this <a href=\"https://cf-courses-data.s3.us.cloud-object-storage.appdomain.cloud/IBMDeveloperSkillsNetwork-DB0201EN-SkillsNetwork/labs/Labs_Coursera_V5/labs/Lab%20-%20Sign%20up%20for%20IBM%20Cloud%20-%20Create%20Db2%20service%20instance%20-%20Get%20started%20with%20the%20Db2%20console/instructional-labs.md.html?utm_medium=Exinfluencer&utm_source=Exinfluencer&utm_content=000026UJ&utm_term=10006555&utm_id=NA-SkillsNetwork-Channel-SkillsNetworkCoursesIBMDS0321ENSkillsNetwork26802033-2022-01-01\">link</a> for viewing  the new  Go to UI screen.\n",
    "\n",
    "*   Later click on **Data link(below SQL)**  in the Go to UI screen  and click on **Load Data** tab.\n",
    "\n",
    "*   Later browse for the downloaded spacex file.\n",
    "\n",
    "<img src=\"https://cf-courses-data.s3.us.cloud-object-storage.appdomain.cloud/IBM-DS0321EN-SkillsNetwork/labs/module_2/images/browsefile.png\" width=\"800\"/>\n",
    "\n",
    "*   Once done select the schema andload the file.\n",
    "\n",
    " <img src=\"https://cf-courses-data.s3.us.cloud-object-storage.appdomain.cloud/IBM-DS0321EN-SkillsNetwork/labs/module_2/images/spacexload3.png\" width=\"800\"/>\n"
   ]
  },
  {
   "cell_type": "code",
   "execution_count": 1,
   "id": "37401a88",
   "metadata": {
    "execution": {
     "iopub.execute_input": "2022-07-16T07:05:55.252399Z",
     "iopub.status.busy": "2022-07-16T07:05:55.251649Z",
     "iopub.status.idle": "2022-07-16T07:06:08.760814Z",
     "shell.execute_reply": "2022-07-16T07:06:08.759479Z"
    },
    "papermill": {
     "duration": 13.519848,
     "end_time": "2022-07-16T07:06:08.763417",
     "exception": false,
     "start_time": "2022-07-16T07:05:55.243569",
     "status": "completed"
    },
    "tags": []
   },
   "outputs": [
    {
     "name": "stdout",
     "output_type": "stream",
     "text": [
      "Requirement already satisfied: sqlalchemy in /opt/conda/lib/python3.7/site-packages (1.4.36)\r\n",
      "Requirement already satisfied: greenlet!=0.4.17 in /opt/conda/lib/python3.7/site-packages (from sqlalchemy) (1.1.2)\r\n",
      "Requirement already satisfied: importlib-metadata in /opt/conda/lib/python3.7/site-packages (from sqlalchemy) (4.12.0)\r\n",
      "Requirement already satisfied: zipp>=0.5 in /opt/conda/lib/python3.7/site-packages (from importlib-metadata->sqlalchemy) (3.8.0)\r\n",
      "Requirement already satisfied: typing-extensions>=3.6.4 in /opt/conda/lib/python3.7/site-packages (from importlib-metadata->sqlalchemy) (4.1.1)\r\n",
      "\u001b[33mWARNING: Running pip as the 'root' user can result in broken permissions and conflicting behaviour with the system package manager. It is recommended to use a virtual environment instead: https://pip.pypa.io/warnings/venv\u001b[0m\u001b[33m\r\n",
      "\u001b[0m"
     ]
    }
   ],
   "source": [
    "!pip install sqlalchemy\n"
   ]
  },
  {
   "cell_type": "markdown",
   "id": "cfc4c0ee",
   "metadata": {
    "papermill": {
     "duration": 0.005507,
     "end_time": "2022-07-16T07:06:08.775171",
     "exception": false,
     "start_time": "2022-07-16T07:06:08.769664",
     "status": "completed"
    },
    "tags": []
   },
   "source": [
    "### Connect to the database\n",
    "\n",
    "Let us first load the SQL extension and establish a connection with the database\n"
   ]
  },
  {
   "cell_type": "code",
   "execution_count": 2,
   "id": "77889c34",
   "metadata": {
    "execution": {
     "iopub.execute_input": "2022-07-16T07:06:08.787887Z",
     "iopub.status.busy": "2022-07-16T07:06:08.787583Z",
     "iopub.status.idle": "2022-07-16T07:06:08.793738Z",
     "shell.execute_reply": "2022-07-16T07:06:08.792609Z"
    },
    "papermill": {
     "duration": 0.014999,
     "end_time": "2022-07-16T07:06:08.795801",
     "exception": false,
     "start_time": "2022-07-16T07:06:08.780802",
     "status": "completed"
    },
    "tags": []
   },
   "outputs": [
    {
     "name": "stdout",
     "output_type": "stream",
     "text": [
      "The sql extension is already loaded. To reload it, use:\n",
      "  %reload_ext sql\n"
     ]
    }
   ],
   "source": [
    "%load_ext sql"
   ]
  },
  {
   "cell_type": "code",
   "execution_count": 3,
   "id": "7f784a92",
   "metadata": {
    "execution": {
     "iopub.execute_input": "2022-07-16T07:06:08.809652Z",
     "iopub.status.busy": "2022-07-16T07:06:08.809276Z",
     "iopub.status.idle": "2022-07-16T07:06:08.814587Z",
     "shell.execute_reply": "2022-07-16T07:06:08.813453Z"
    },
    "papermill": {
     "duration": 0.014548,
     "end_time": "2022-07-16T07:06:08.816453",
     "exception": false,
     "start_time": "2022-07-16T07:06:08.801905",
     "status": "completed"
    },
    "tags": []
   },
   "outputs": [],
   "source": [
    "import csv, sqlite3\n",
    "\n",
    "con = sqlite3.connect(\"my_data1.db\")\n",
    "cur = con.cursor()"
   ]
  },
  {
   "cell_type": "code",
   "execution_count": 4,
   "id": "4beb07d6",
   "metadata": {
    "execution": {
     "iopub.execute_input": "2022-07-16T07:06:08.830682Z",
     "iopub.status.busy": "2022-07-16T07:06:08.830288Z",
     "iopub.status.idle": "2022-07-16T07:06:18.684696Z",
     "shell.execute_reply": "2022-07-16T07:06:18.683408Z"
    },
    "papermill": {
     "duration": 9.865082,
     "end_time": "2022-07-16T07:06:18.687694",
     "exception": false,
     "start_time": "2022-07-16T07:06:08.822612",
     "status": "completed"
    },
    "tags": []
   },
   "outputs": [
    {
     "name": "stdout",
     "output_type": "stream",
     "text": [
      "\u001b[33mWARNING: Running pip as the 'root' user can result in broken permissions and conflicting behaviour with the system package manager. It is recommended to use a virtual environment instead: https://pip.pypa.io/warnings/venv\u001b[0m\u001b[33m\r\n",
      "\u001b[0m"
     ]
    }
   ],
   "source": [
    "!pip install -q pandas"
   ]
  },
  {
   "cell_type": "code",
   "execution_count": 5,
   "id": "2b1f881d",
   "metadata": {
    "execution": {
     "iopub.execute_input": "2022-07-16T07:06:18.709071Z",
     "iopub.status.busy": "2022-07-16T07:06:18.708695Z",
     "iopub.status.idle": "2022-07-16T07:06:18.737930Z",
     "shell.execute_reply": "2022-07-16T07:06:18.737340Z"
    },
    "papermill": {
     "duration": 0.042397,
     "end_time": "2022-07-16T07:06:18.739947",
     "exception": false,
     "start_time": "2022-07-16T07:06:18.697550",
     "status": "completed"
    },
    "tags": []
   },
   "outputs": [
    {
     "data": {
      "text/plain": [
       "'Connected: @my_data1.db'"
      ]
     },
     "execution_count": 5,
     "metadata": {},
     "output_type": "execute_result"
    }
   ],
   "source": [
    "%sql sqlite:///my_data1.db"
   ]
  },
  {
   "cell_type": "code",
   "execution_count": 6,
   "id": "3a4c215e",
   "metadata": {
    "execution": {
     "iopub.execute_input": "2022-07-16T07:06:18.761146Z",
     "iopub.status.busy": "2022-07-16T07:06:18.760637Z",
     "iopub.status.idle": "2022-07-16T07:06:19.355934Z",
     "shell.execute_reply": "2022-07-16T07:06:19.354700Z"
    },
    "papermill": {
     "duration": 0.608995,
     "end_time": "2022-07-16T07:06:19.358911",
     "exception": false,
     "start_time": "2022-07-16T07:06:18.749916",
     "status": "completed"
    },
    "tags": []
   },
   "outputs": [
    {
     "name": "stderr",
     "output_type": "stream",
     "text": [
      "/opt/conda/lib/python3.7/site-packages/pandas/core/generic.py:2882: UserWarning: The spaces in these column names will not be changed. In pandas versions < 0.14, spaces were converted to underscores.\n",
      "  method=method,\n"
     ]
    }
   ],
   "source": [
    "import pandas as pd\n",
    "df = pd.read_csv(\"https://cf-courses-data.s3.us.cloud-object-storage.appdomain.cloud/IBM-DS0321EN-SkillsNetwork/labs/module_2/data/Spacex.csv\")\n",
    "df.to_sql(\"SPACEXTBL\", con, if_exists='replace', index=False,method=\"multi\")"
   ]
  },
  {
   "cell_type": "markdown",
   "id": "55e0ad67",
   "metadata": {
    "papermill": {
     "duration": 0.009553,
     "end_time": "2022-07-16T07:06:19.378731",
     "exception": false,
     "start_time": "2022-07-16T07:06:19.369178",
     "status": "completed"
    },
    "tags": []
   },
   "source": [
    "## Tasks\n",
    "\n",
    "Now write and execute SQL queries to solve the assignment tasks.\n",
    "\n",
    "**Note: If the column names are in mixed case enclose it in double quotes\n",
    "For Example \"Landing_Outcome\"**\n",
    "\n",
    "### Task 1\n",
    "\n",
    "##### Display the names of the unique launch sites  in the space mission\n"
   ]
  },
  {
   "cell_type": "code",
   "execution_count": 7,
   "id": "836f585b",
   "metadata": {
    "execution": {
     "iopub.execute_input": "2022-07-16T07:06:19.400604Z",
     "iopub.status.busy": "2022-07-16T07:06:19.400262Z",
     "iopub.status.idle": "2022-07-16T07:06:19.404568Z",
     "shell.execute_reply": "2022-07-16T07:06:19.403692Z"
    },
    "papermill": {
     "duration": 0.018489,
     "end_time": "2022-07-16T07:06:19.407106",
     "exception": false,
     "start_time": "2022-07-16T07:06:19.388617",
     "status": "completed"
    },
    "tags": []
   },
   "outputs": [],
   "source": [
    "cur.execute(\"select * from SPACEXTBL\");"
   ]
  },
  {
   "cell_type": "markdown",
   "id": "e7cc40aa",
   "metadata": {
    "papermill": {
     "duration": 0.009667,
     "end_time": "2022-07-16T07:06:19.427310",
     "exception": false,
     "start_time": "2022-07-16T07:06:19.417643",
     "status": "completed"
    },
    "tags": []
   },
   "source": [
    "### Task 2\n",
    "\n",
    "##### Display 5 records where launch sites begin with the string 'CCA'\n"
   ]
  },
  {
   "cell_type": "code",
   "execution_count": null,
   "id": "6f78f5fa",
   "metadata": {
    "papermill": {
     "duration": 0.009729,
     "end_time": "2022-07-16T07:06:19.446916",
     "exception": false,
     "start_time": "2022-07-16T07:06:19.437187",
     "status": "completed"
    },
    "tags": []
   },
   "outputs": [],
   "source": []
  },
  {
   "cell_type": "markdown",
   "id": "a91270bb",
   "metadata": {
    "papermill": {
     "duration": 0.00967,
     "end_time": "2022-07-16T07:06:19.466785",
     "exception": false,
     "start_time": "2022-07-16T07:06:19.457115",
     "status": "completed"
    },
    "tags": []
   },
   "source": [
    "### Task 3\n",
    "\n",
    "##### Display the total payload mass carried by boosters launched by NASA (CRS)\n"
   ]
  },
  {
   "cell_type": "code",
   "execution_count": null,
   "id": "a49c7c92",
   "metadata": {
    "papermill": {
     "duration": 0.010445,
     "end_time": "2022-07-16T07:06:19.487637",
     "exception": false,
     "start_time": "2022-07-16T07:06:19.477192",
     "status": "completed"
    },
    "tags": []
   },
   "outputs": [],
   "source": []
  },
  {
   "cell_type": "markdown",
   "id": "bde38b50",
   "metadata": {
    "papermill": {
     "duration": 0.009747,
     "end_time": "2022-07-16T07:06:19.507602",
     "exception": false,
     "start_time": "2022-07-16T07:06:19.497855",
     "status": "completed"
    },
    "tags": []
   },
   "source": [
    "### Task 4\n",
    "\n",
    "##### Display average payload mass carried by booster version F9 v1.1\n"
   ]
  },
  {
   "cell_type": "code",
   "execution_count": null,
   "id": "cf36b73c",
   "metadata": {
    "papermill": {
     "duration": 0.009544,
     "end_time": "2022-07-16T07:06:19.526974",
     "exception": false,
     "start_time": "2022-07-16T07:06:19.517430",
     "status": "completed"
    },
    "tags": []
   },
   "outputs": [],
   "source": []
  },
  {
   "cell_type": "markdown",
   "id": "021e98ad",
   "metadata": {
    "papermill": {
     "duration": 0.009929,
     "end_time": "2022-07-16T07:06:19.547336",
     "exception": false,
     "start_time": "2022-07-16T07:06:19.537407",
     "status": "completed"
    },
    "tags": []
   },
   "source": [
    "### Task 5\n",
    "\n",
    "##### List the date when the first succesful landing outcome in ground pad was acheived.\n",
    "\n",
    "*Hint:Use min function*\n"
   ]
  },
  {
   "cell_type": "code",
   "execution_count": null,
   "id": "7259c1f8",
   "metadata": {
    "papermill": {
     "duration": 0.010148,
     "end_time": "2022-07-16T07:06:19.567859",
     "exception": false,
     "start_time": "2022-07-16T07:06:19.557711",
     "status": "completed"
    },
    "tags": []
   },
   "outputs": [],
   "source": []
  },
  {
   "cell_type": "markdown",
   "id": "35398254",
   "metadata": {
    "papermill": {
     "duration": 0.009621,
     "end_time": "2022-07-16T07:06:19.587483",
     "exception": false,
     "start_time": "2022-07-16T07:06:19.577862",
     "status": "completed"
    },
    "tags": []
   },
   "source": [
    "### Task 6\n",
    "\n",
    "##### List the names of the boosters which have success in drone ship and have payload mass greater than 4000 but less than 6000\n"
   ]
  },
  {
   "cell_type": "code",
   "execution_count": null,
   "id": "7033e2a6",
   "metadata": {
    "papermill": {
     "duration": 0.009585,
     "end_time": "2022-07-16T07:06:19.607272",
     "exception": false,
     "start_time": "2022-07-16T07:06:19.597687",
     "status": "completed"
    },
    "tags": []
   },
   "outputs": [],
   "source": []
  },
  {
   "cell_type": "markdown",
   "id": "a61175f8",
   "metadata": {
    "papermill": {
     "duration": 0.009764,
     "end_time": "2022-07-16T07:06:19.626917",
     "exception": false,
     "start_time": "2022-07-16T07:06:19.617153",
     "status": "completed"
    },
    "tags": []
   },
   "source": [
    "### Task 7\n",
    "\n",
    "##### List the total number of successful and failure mission outcomes\n"
   ]
  },
  {
   "cell_type": "code",
   "execution_count": null,
   "id": "745a89d5",
   "metadata": {
    "papermill": {
     "duration": 0.009652,
     "end_time": "2022-07-16T07:06:19.646543",
     "exception": false,
     "start_time": "2022-07-16T07:06:19.636891",
     "status": "completed"
    },
    "tags": []
   },
   "outputs": [],
   "source": []
  },
  {
   "cell_type": "markdown",
   "id": "181336d3",
   "metadata": {
    "papermill": {
     "duration": 0.009815,
     "end_time": "2022-07-16T07:06:19.666703",
     "exception": false,
     "start_time": "2022-07-16T07:06:19.656888",
     "status": "completed"
    },
    "tags": []
   },
   "source": [
    "### Task 8\n",
    "\n",
    "##### List the   names of the booster_versions which have carried the maximum payload mass. Use a subquery\n"
   ]
  },
  {
   "cell_type": "code",
   "execution_count": null,
   "id": "60e6524f",
   "metadata": {
    "papermill": {
     "duration": 0.010047,
     "end_time": "2022-07-16T07:06:19.686876",
     "exception": false,
     "start_time": "2022-07-16T07:06:19.676829",
     "status": "completed"
    },
    "tags": []
   },
   "outputs": [],
   "source": []
  },
  {
   "cell_type": "markdown",
   "id": "12793d6b",
   "metadata": {
    "papermill": {
     "duration": 0.009752,
     "end_time": "2022-07-16T07:06:19.706981",
     "exception": false,
     "start_time": "2022-07-16T07:06:19.697229",
     "status": "completed"
    },
    "tags": []
   },
   "source": [
    "### Task 9\n",
    "\n",
    "##### List the records which will display the month names, failure landing_outcomes in drone ship ,booster versions, launch_site for the months in year 2015.\n",
    "\n",
    "**Note: SQLLite does not support monthnames. So you need to use  substr(Date, 4, 2) as month to get the months and substr(Date,7,4)='2015' for year.**\n"
   ]
  },
  {
   "cell_type": "code",
   "execution_count": null,
   "id": "f6a6dfcc",
   "metadata": {
    "papermill": {
     "duration": 0.009846,
     "end_time": "2022-07-16T07:06:19.727106",
     "exception": false,
     "start_time": "2022-07-16T07:06:19.717260",
     "status": "completed"
    },
    "tags": []
   },
   "outputs": [],
   "source": []
  },
  {
   "cell_type": "markdown",
   "id": "d0900521",
   "metadata": {
    "papermill": {
     "duration": 0.009715,
     "end_time": "2022-07-16T07:06:19.746990",
     "exception": false,
     "start_time": "2022-07-16T07:06:19.737275",
     "status": "completed"
    },
    "tags": []
   },
   "source": [
    "### Task 10\n",
    "\n",
    "##### Rank the  count of  successful landing_outcomes between the date 04-06-2010 and 20-03-2017 in descending order.\n"
   ]
  },
  {
   "cell_type": "code",
   "execution_count": null,
   "id": "5ce24d6c",
   "metadata": {
    "papermill": {
     "duration": 0.009741,
     "end_time": "2022-07-16T07:06:19.766759",
     "exception": false,
     "start_time": "2022-07-16T07:06:19.757018",
     "status": "completed"
    },
    "tags": []
   },
   "outputs": [],
   "source": []
  },
  {
   "cell_type": "markdown",
   "id": "8d1513fd",
   "metadata": {
    "papermill": {
     "duration": 0.009555,
     "end_time": "2022-07-16T07:06:19.786290",
     "exception": false,
     "start_time": "2022-07-16T07:06:19.776735",
     "status": "completed"
    },
    "tags": []
   },
   "source": [
    "### Reference Links\n",
    "\n",
    "*   <a href =\"https://cf-courses-data.s3.us.cloud-object-storage.appdomain.cloud/IBMDeveloperSkillsNetwork-DB0201EN-SkillsNetwork/labs/Labs_Coursera_V5/labs/Lab%20-%20String%20Patterns%20-%20Sorting%20-%20Grouping/instructional-labs.md.html?utm_medium=Exinfluencer&utm_source=Exinfluencer&utm_content=000026UJ&utm_term=10006555&utm_id=NA-SkillsNetwork-Channel-SkillsNetworkCoursesIBMDS0321ENSkillsNetwork26802033-2022-01-01&origin=www.coursera.org\">Hands-on Lab : String Patterns, Sorting and Grouping</a>\n",
    "\n",
    "*   <a  href=\"https://cf-courses-data.s3.us.cloud-object-storage.appdomain.cloud/IBMDeveloperSkillsNetwork-DB0201EN-SkillsNetwork/labs/Labs_Coursera_V5/labs/Lab%20-%20Built-in%20functions%20/Hands-on_Lab__Built-in_Functions.md.html?utm_medium=Exinfluencer&utm_source=Exinfluencer&utm_content=000026UJ&utm_term=10006555&utm_id=NA-SkillsNetwork-Channel-SkillsNetworkCoursesIBMDS0321ENSkillsNetwork26802033-2022-01-01&origin=www.coursera.org\">Hands-on Lab: Built-in functions</a>\n",
    "\n",
    "*   <a  href=\"https://cf-courses-data.s3.us.cloud-object-storage.appdomain.cloud/IBMDeveloperSkillsNetwork-DB0201EN-SkillsNetwork/labs/Labs_Coursera_V5/labs/Lab%20-%20Sub-queries%20and%20Nested%20SELECTs%20/instructional-labs.md.html?utm_medium=Exinfluencer&utm_source=Exinfluencer&utm_content=000026UJ&utm_term=10006555&utm_id=NA-SkillsNetwork-Channel-SkillsNetworkCoursesIBMDS0321ENSkillsNetwork26802033-2022-01-01&origin=www.coursera.org\">Hands-on Lab : Sub-queries and Nested SELECT Statements</a>\n",
    "\n",
    "*   <a href=\"https://cf-courses-data.s3.us.cloud-object-storage.appdomain.cloud/IBMDeveloperSkillsNetwork-DB0201EN-SkillsNetwork/labs/Module%205/DB0201EN-Week3-1-3-SQLmagic.ipynb?utm_medium=Exinfluencer&utm_source=Exinfluencer&utm_content=000026UJ&utm_term=10006555&utm_id=NA-SkillsNetwork-Channel-SkillsNetworkCoursesIBMDS0321ENSkillsNetwork26802033-2022-01-01\">Hands-on Tutorial: Accessing Databases with SQL magic</a>\n",
    "\n",
    "*   <a href= \"https://cf-courses-data.s3.us.cloud-object-storage.appdomain.cloud/IBMDeveloperSkillsNetwork-DB0201EN-SkillsNetwork/labs/Module%205/DB0201EN-Week3-1-4-Analyzing.ipynb?utm_medium=Exinfluencer&utm_source=Exinfluencer&utm_content=000026UJ&utm_term=10006555&utm_id=NA-SkillsNetwork-Channel-SkillsNetworkCoursesIBMDS0321ENSkillsNetwork26802033-2022-01-01\">Hands-on Lab: Analyzing a real World Data Set</a>\n"
   ]
  },
  {
   "cell_type": "markdown",
   "id": "378bb2f4",
   "metadata": {
    "papermill": {
     "duration": 0.009633,
     "end_time": "2022-07-16T07:06:19.805928",
     "exception": false,
     "start_time": "2022-07-16T07:06:19.796295",
     "status": "completed"
    },
    "tags": []
   },
   "source": [
    "## Author(s)\n",
    "\n",
    "<h4> Lakshmi Holla </h4>\n"
   ]
  },
  {
   "cell_type": "markdown",
   "id": "d7436a80",
   "metadata": {
    "papermill": {
     "duration": 0.009761,
     "end_time": "2022-07-16T07:06:19.825580",
     "exception": false,
     "start_time": "2022-07-16T07:06:19.815819",
     "status": "completed"
    },
    "tags": []
   },
   "source": [
    "## Other Contributors\n",
    "\n",
    "<h4> Rav Ahuja </h4>\n"
   ]
  },
  {
   "cell_type": "markdown",
   "id": "836b92d3",
   "metadata": {
    "papermill": {
     "duration": 0.00951,
     "end_time": "2022-07-16T07:06:19.845168",
     "exception": false,
     "start_time": "2022-07-16T07:06:19.835658",
     "status": "completed"
    },
    "tags": []
   },
   "source": [
    "## Change log\n",
    "\n",
    "| Date       | Version | Changed by    | Change Description        |\n",
    "| ---------- | ------- | ------------- | ------------------------- |\n",
    "| 2021-07-09 | 0.2     | Lakshmi Holla | Changes made in magic sql |\n",
    "| 2021-05-20 | 0.1     | Lakshmi Holla | Created Initial Version   |\n"
   ]
  },
  {
   "cell_type": "markdown",
   "id": "42e2b15e",
   "metadata": {
    "papermill": {
     "duration": 0.009923,
     "end_time": "2022-07-16T07:06:19.865154",
     "exception": false,
     "start_time": "2022-07-16T07:06:19.855231",
     "status": "completed"
    },
    "tags": []
   },
   "source": [
    "## <h3 align=\"center\"> © IBM Corporation 2021. All rights reserved. <h3/>\n"
   ]
  }
 ],
 "metadata": {
  "kernelspec": {
   "display_name": "Python 3",
   "language": "python",
   "name": "python3"
  },
  "language_info": {
   "codemirror_mode": {
    "name": "ipython",
    "version": 3
   },
   "file_extension": ".py",
   "mimetype": "text/x-python",
   "name": "python",
   "nbconvert_exporter": "python",
   "pygments_lexer": "ipython3",
   "version": "3.7.12"
  },
  "papermill": {
   "default_parameters": {},
   "duration": 36.277481,
   "end_time": "2022-07-16T07:06:20.796632",
   "environment_variables": {},
   "exception": null,
   "input_path": "__notebook__.ipynb",
   "output_path": "__notebook__.ipynb",
   "parameters": {},
   "start_time": "2022-07-16T07:05:44.519151",
   "version": "2.3.4"
  }
 },
 "nbformat": 4,
 "nbformat_minor": 5
}
